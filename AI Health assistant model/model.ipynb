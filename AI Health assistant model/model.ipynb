{
 "cells": [
  {
   "cell_type": "code",
   "execution_count": null,
   "id": "58732153-6d7e-41d8-8d54-0b3708cdc41a",
   "metadata": {},
   "outputs": [
    {
     "name": "stdout",
     "output_type": "stream",
     "text": [
      "\n",
      "Welcome to AI Personal Assistant\n",
      "===============================\n",
      "1. Sleep Quality Prediction\n",
      "2. Nutrition Recommendation\n",
      "3. Symptom to Disease Prediction\n",
      "4. Exit\n"
     ]
    },
    {
     "name": "stdin",
     "output_type": "stream",
     "text": [
      "\n",
      "Select a model (1-4):  1\n"
     ]
    },
    {
     "name": "stdout",
     "output_type": "stream",
     "text": [
      "\n",
      "Running Sleep Quality Prediction Model...\n",
      "Model accuracy: 1.00 (100.0%)\n",
      "\n",
      "Feature importance:\n",
      "                   Feature  Coefficient\n",
      "2  Physical Activity Level     0.323656\n",
      "1               Heart Rate    -0.750677\n",
      "0           Sleep Duration    -0.784157\n",
      "\n",
      "Predict your sleep quality:\n"
     ]
    },
    {
     "name": "stdin",
     "output_type": "stream",
     "text": [
      "Enter sleep duration (hours):  5\n",
      "Enter average heart rate:  30\n",
      "Enter physical activity level (minutes):  60\n"
     ]
    },
    {
     "name": "stdout",
     "output_type": "stream",
     "text": [
      "\n",
      "Prediction: Good Sleep Quality\n",
      "Confidence: 1.00 (100.0%)\n",
      "\n",
      "Factors that contributed to good sleep prediction:\n",
      "- Sleep duration (5.0 hours) could be improved. 7-9 hours is recommended.\n",
      "Thank you for using Sleep and Physical Activity Recommendation System!\n",
      "\n",
      "Welcome to AI Personal Assistant\n",
      "===============================\n",
      "1. Sleep Quality Prediction\n",
      "2. Nutrition Recommendation\n",
      "3. Symptom to Disease Prediction\n",
      "4. Exit\n"
     ]
    },
    {
     "name": "stdin",
     "output_type": "stream",
     "text": [
      "\n",
      "Select a model (1-4):  2\n"
     ]
    },
    {
     "name": "stdout",
     "output_type": "stream",
     "text": [
      "\n",
      "Running Nutrition Recommendation Model...\n",
      "\n",
      "Nutrition Recommendation System\n",
      "==============================\n",
      "\n",
      "Options:\n",
      "1. Find foods similar to specific nutritional values\n",
      "2. Find low-carb foods\n",
      "3. Find high-protein foods\n"
     ]
    },
    {
     "name": "stdin",
     "output_type": "stream",
     "text": [
      "\n",
      "Enter your choice (1-3):  1\n",
      "Enter desired calories:  2\n",
      "Enter desired carbohydrates (g):  1\n",
      "Enter desired protein (g):  1\n",
      "Enter desired fat (g):  1\n"
     ]
    },
    {
     "name": "stdout",
     "output_type": "stream",
     "text": [
      "\n",
      "Top 5 Food Recommendations:\n",
      "\n",
      "1. Sauce, TABASCO, pepper, ready-to-serve - Calories: 12.0, Carbs: 0.8g, Protein: 1.3g, Fat: 0.8g\n",
      "2. CAMPBELL'S Low Sodium Soups, Chicken Broth - Calories: 10.0, Carbs: 0.3g, Protein: 1.0g, Fat: 0.3g\n",
      "3. Soup, ready-to-serve, chicken broth - Calories: 6.0, Carbs: 0.4g, Protein: 0.6g, Fat: 0.2g\n",
      "4. Soup, ready-to-serve, beef broth or bouillon canned - Calories: 7.0, Carbs: 0.0g, Protein: 1.1g, Fat: 0.2g\n",
      "5. Soup, ready to serve, less/reduced sodium, beef broth - Calories: 6.0, Carbs: 0.2g, Protein: 1.1g, Fat: 0.1g\n",
      "Thank you for using the Nutrition Recommendation System!\n",
      "\n",
      "Welcome to AI Personal Assistant\n",
      "===============================\n",
      "1. Sleep Quality Prediction\n",
      "2. Nutrition Recommendation\n",
      "3. Symptom to Disease Prediction\n",
      "4. Exit\n"
     ]
    },
    {
     "name": "stdin",
     "output_type": "stream",
     "text": [
      "\n",
      "Select a model (1-4):  1\n"
     ]
    },
    {
     "name": "stdout",
     "output_type": "stream",
     "text": [
      "\n",
      "Running Sleep Quality Prediction Model...\n",
      "Model accuracy: 1.00 (100.0%)\n",
      "\n",
      "Feature importance:\n",
      "                   Feature  Coefficient\n",
      "2  Physical Activity Level     0.323656\n",
      "1               Heart Rate    -0.750677\n",
      "0           Sleep Duration    -0.784157\n",
      "\n",
      "Predict your sleep quality:\n"
     ]
    },
    {
     "name": "stdin",
     "output_type": "stream",
     "text": [
      "Enter sleep duration (hours):  7\n",
      "Enter average heart rate:  80\n",
      "Enter physical activity level (minutes):  50\n"
     ]
    },
    {
     "name": "stdout",
     "output_type": "stream",
     "text": [
      "\n",
      "Prediction: Good Sleep Quality\n",
      "Confidence: 0.90 (89.6%)\n",
      "\n",
      "Factors that contributed to good sleep prediction:\n",
      "Thank you for using Sleep and Physical Activity Recommendation System!\n",
      "\n",
      "Welcome to AI Personal Assistant\n",
      "===============================\n",
      "1. Sleep Quality Prediction\n",
      "2. Nutrition Recommendation\n",
      "3. Symptom to Disease Prediction\n",
      "4. Exit\n"
     ]
    },
    {
     "name": "stdin",
     "output_type": "stream",
     "text": [
      "\n",
      "Select a model (1-4):  6\n"
     ]
    },
    {
     "name": "stdout",
     "output_type": "stream",
     "text": [
      "Invalid choice. Please select a number from 1 to 4.\n",
      "\n",
      "Welcome to AI Personal Assistant\n",
      "===============================\n",
      "1. Sleep Quality Prediction\n",
      "2. Nutrition Recommendation\n",
      "3. Symptom to Disease Prediction\n",
      "4. Exit\n"
     ]
    }
   ],
   "source": [
    "import pandas as pd\n",
    "import numpy as np\n",
    "import csv\n",
    "from collections import Counter\n",
    "from sklearn.linear_model import LogisticRegression\n",
    "from sklearn.model_selection import train_test_split\n",
    "from sklearn.metrics import accuracy_score\n",
    "from sklearn.preprocessing import StandardScaler\n",
    "from sklearn.neighbors import NearestNeighbors\n",
    "\n",
    "# Main program loop\n",
    "running = True\n",
    "while running:\n",
    "    print(\"\\nWelcome to AI Personal Assistant\")\n",
    "    print(\"===============================\")\n",
    "    print(\"1. Sleep Quality Prediction\")\n",
    "    print(\"2. Nutrition Recommendation\")\n",
    "    print(\"3. Symptom to Disease Prediction\")\n",
    "    print(\"4. Exit\")\n",
    "\n",
    "    model_choice = input(\"\\nSelect a model (1-4): \")\n",
    "\n",
    "    # Sleep Model\n",
    "    if model_choice == \"1\":\n",
    "        print(\"\\nRunning Sleep Quality Prediction Model...\")\n",
    "        data = pd.read_csv(r\"Sleep_health_and_lifestyle_dataset.csv\")\n",
    "        for col in ['Sleep Duration', 'Heart Rate', 'Physical Activity Level', 'Quality of Sleep']:\n",
    "            data[col] = data[col].fillna(0)\n",
    "        x = data[['Sleep Duration', 'Heart Rate', 'Physical Activity Level']]\n",
    "        y = (data['Quality of Sleep'] >= 6).astype(int)  # Good sleep if quality >=6\n",
    "        x_train, x_test, y_train, y_test = train_test_split(x, y, test_size=0.2, random_state=42)\n",
    "        model = LogisticRegression(max_iter=1000)\n",
    "        model.fit(x_train, y_train)\n",
    "        y_pred = model.predict(x_test)\n",
    "        accuracy = accuracy_score(y_test, y_pred)\n",
    "        print(f\"Model accuracy: {accuracy:.2f} ({accuracy*100:.1f}%)\")\n",
    "        coefficients = pd.DataFrame({\n",
    "            'Feature': x.columns,\n",
    "            'Coefficient': model.coef_[0]\n",
    "        })\n",
    "        print(\"\\nFeature importance:\")\n",
    "        print(coefficients.sort_values('Coefficient', ascending=False))\n",
    "        try:\n",
    "            print(\"\\nPredict your sleep quality:\")\n",
    "            d = float(input(\"Enter sleep duration (hours): \"))\n",
    "            h = int(input(\"Enter average heart rate: \"))\n",
    "            a = int(input(\"Enter physical activity level (minutes): \"))\n",
    "            input_df = pd.DataFrame([[d, h, a]], columns=x.columns)\n",
    "            \n",
    "            p = model.predict(input_df)\n",
    "            prob = model.predict_proba(input_df)[0][1]\n",
    "            \n",
    "            print(f\"\\nPrediction: {'Good Sleep Quality' if p[0] == 1 else 'Poor Sleep Quality'}\")\n",
    "            print(f\"Confidence: {prob:.2f} ({prob*100:.1f}%)\")\n",
    "            \n",
    "            if p[0] == 1:\n",
    "                print(\"\\nFactors that contributed to good sleep prediction:\")\n",
    "            else:\n",
    "                print(\"\\nSuggestions to improve sleep quality:\")   \n",
    "            \n",
    "            if d < 7:\n",
    "                print(f\"- Sleep duration ({d} hours) could be improved. 7-9 hours is recommended.\")\n",
    "            if a < 30:\n",
    "                print(f\"- Physical activity level ({a} minutes) is low. Try to get at least 30 minutes daily.\")\n",
    "            if h > 80:\n",
    "                print(f\"- Heart rate ({h} bpm) is elevated. Relaxation techniques might help.\")    \n",
    "        except ValueError:\n",
    "            print(\"Please enter valid numbers for all inputs.\")\n",
    "        print(\"Thank you for using Sleep and Physical Activity Recommendation System!\")\n",
    "\n",
    "    # Nutrition Model\n",
    "    elif model_choice == \"2\":\n",
    "        print(\"\\nRunning Nutrition Recommendation Model...\")\n",
    "        file_path = (r\"nutrition.csv\")\n",
    "        df = pd.read_csv(file_path)\n",
    "        df = df.dropna(subset=['calories', 'carbohydrate', 'protein', 'fat'], how='all')\n",
    "        features = df[['calories', 'carbohydrate', 'protein', 'fat']].copy()\n",
    "        features.columns = ['Calories', 'Carbohydrate (g)', 'Protein (g)', 'Total lipid (fat) (g)']\n",
    "        for col in features.columns:\n",
    "            features[col] = features[col].astype(str).str.replace(r'[^\\d\\.]', '', regex=True)\n",
    "            features[col] = pd.to_numeric(features[col], errors='coerce')\n",
    "        features = features.dropna()\n",
    "        scaler = StandardScaler()\n",
    "        scaled_features = scaler.fit_transform(features)\n",
    "        knn = NearestNeighbors(n_neighbors=5, metric='euclidean')\n",
    "        knn.fit(scaled_features)\n",
    "        print(\"\\nNutrition Recommendation System\")\n",
    "        print(\"==============================\")\n",
    "        print(\"\\nOptions:\")\n",
    "        print(\"1. Find foods similar to specific nutritional values\")\n",
    "        print(\"2. Find low-carb foods\")\n",
    "        print(\"3. Find high-protein foods\")\n",
    "        choice = input(\"\\nEnter your choice (1-3): \")\n",
    "        # Process selected option\n",
    "        if choice == '1':\n",
    "            calories = float(input(\"Enter desired calories: \"))\n",
    "            carbs = float(input(\"Enter desired carbohydrates (g): \"))\n",
    "            protein = float(input(\"Enter desired protein (g): \"))\n",
    "            fat = float(input(\"Enter desired fat (g): \"))\n",
    "            query = [calories, carbs, protein, fat]\n",
    "            \n",
    "        elif choice == '2':\n",
    "            query = [300, 5, 20, 10]  \n",
    "            print(\"\\nFinding Low-Carb Food Recommendations:\")\n",
    "            \n",
    "        elif choice == '3':\n",
    "            query = [300, 15, 30, 5]  \n",
    "            print(\"\\nFinding High-Protein Food Recommendations:\")\n",
    "            \n",
    "        else:\n",
    "            print(\"Invalid choice.\")\n",
    "            continue\n",
    "        query_df = pd.DataFrame([query], columns=features.columns)   \n",
    "        scaled_query = scaler.transform(query_df)\n",
    "        distances, indices = knn.kneighbors(scaled_query, n_neighbors=5)\n",
    "        food_names = df['name'] if 'name' in df.columns else df.iloc[:, 0]\n",
    "        print(\"\\nTop 5 Food Recommendations:\\n\")\n",
    "        for i, idx in enumerate(indices[0]):\n",
    "            name = food_names.iloc[idx]\n",
    "            calories = features.iloc[idx]['Calories']\n",
    "            carbs = features.iloc[idx]['Carbohydrate (g)']\n",
    "            protein = features.iloc[idx]['Protein (g)']\n",
    "            fat = features.iloc[idx]['Total lipid (fat) (g)']\n",
    "            \n",
    "            print(f\"{i+1}. {name} - Calories: {calories:.1f}, Carbs: {carbs:.1f}g, Protein: {protein:.1f}g, Fat: {fat:.1f}g\")\n",
    "        print(\"Thank you for using the Nutrition Recommendation System!\")\n",
    "\n",
    "    # Symptom to Disease Model\n",
    "    elif model_choice == \"3\":\n",
    "        print(\"\\nRunning Symptom to Disease Prediction Model...\")\n",
    "        df = pd.read_csv(r\"Disease_symptom_and_patient_profile_dataset.csv\")\n",
    "        symptoms = ['Fever', 'Cough', 'Fatigue', 'Difficulty Breathing']\n",
    "        for symptom in symptoms:\n",
    "            df[symptom] = df[symptom].map({'Yes': 1, 'No': 0})\n",
    "        from sklearn.preprocessing import LabelEncoder\n",
    "        le = LabelEncoder()\n",
    "        df['Disease_Label'] = le.fit_transform(df['Disease'])\n",
    "        X = df[symptoms]\n",
    "        y = df['Disease_Label']\n",
    "        from sklearn.tree import DecisionTreeClassifier\n",
    "        X_train, X_test, y_train, y_test = train_test_split(X, y, test_size=0.2, random_state=42)\n",
    "        dt_model = DecisionTreeClassifier(max_depth=3)\n",
    "        dt_model.fit(X_train, y_train)\n",
    "        print(\"\\nDisease Prediction System (Decision Tree)\")\n",
    "        print(\"========================================\")\n",
    "        user_input = []\n",
    "        for symptom in symptoms:\n",
    "            answer = input(f\"Do you have {symptom}? (Yes/No): \").strip().lower()\n",
    "            user_input.append(1 if answer == 'yes' else 0)\n",
    "\n",
    "        input_data = pd.DataFrame([user_input], columns=symptoms)\n",
    "        prediction = dt_model.predict(input_data)[0]\n",
    "        confidence = dt_model.predict_proba(input_data)[0].max()\n",
    "        \n",
    "        disease_name = le.inverse_transform([prediction])[0]\n",
    "        print(f\"\\nPredicted Disease: {disease_name}\")\n",
    "        print(f\"Confidence: {confidence:.2f} ({confidence*100:.1f}%)\")\n",
    "        print(\"Thank you for using the Disease Prediction System!\")\n",
    "\n",
    "    # Exit option\n",
    "    elif model_choice == \"4\":\n",
    "        print(\"Thank you for using AI Personal Assistant. Goodbye!\")\n",
    "        running = False\n",
    "\n",
    "    else:\n",
    "        print(\"Invalid choice. Please select a number from 1 to 4.\")"
   ]
  },
  {
   "cell_type": "code",
   "execution_count": null,
   "id": "961d0a66-e9e6-41d2-ba44-50f975663b9d",
   "metadata": {},
   "outputs": [],
   "source": []
  }
 ],
 "metadata": {
  "kernelspec": {
   "display_name": "Python 3 (ipykernel)",
   "language": "python",
   "name": "python3"
  },
  "language_info": {
   "codemirror_mode": {
    "name": "ipython",
    "version": 3
   },
   "file_extension": ".py",
   "mimetype": "text/x-python",
   "name": "python",
   "nbconvert_exporter": "python",
   "pygments_lexer": "ipython3",
   "version": "3.11.9"
  }
 },
 "nbformat": 4,
 "nbformat_minor": 5
}
